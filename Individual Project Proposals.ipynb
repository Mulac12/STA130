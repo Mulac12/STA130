{
 "cells": [
  {
   "cell_type": "markdown",
   "id": "1621193b",
   "metadata": {},
   "source": [
    "Individual Project Proposals"
   ]
  },
  {
   "cell_type": "markdown",
   "id": "988e4180",
   "metadata": {},
   "source": [
    "Analysis 1: Study Time Related to Term Test Results in MAT137\n",
    "\n",
    "Research Question:\n",
    "Does the amount of time students spend studying for MAT137 each week significantly affect their performance on term tests?\n",
    "Variables and Exploration:\n",
    "\n",
    "Independent Variable: study time of MAT137 for each week (hours)\n",
    "\n",
    "Dependent Variable: term test results\n",
    "\n",
    "Justification: Explore how to study MAT137 effectively. This course is usually seen as hard for first year students. Exploring it will help students to get better grades with less time.\n",
    "\n",
    "Proposed Visualization:\n",
    "Using a Scatter Plot is a good idea. It will help identify any patterns or correlations between the two quantitative variables. \n",
    "\n",
    "Analysis Method:\n",
    "Chosen Method: Use simple linear regression with study time as the independent variable and term test scores as the dependent variable.\n",
    "Assumptions: it will be linear, as study time increases, the term test scores will increase.\n",
    "\n",
    "Hypothesis:\n",
    "\n",
    "Null Hypothesis (H₀): There is no significant relationship between study time and term test results in MAT137. \n",
    "\n",
    "Alternative Hypothesis (H₁): There is a significant positive relationship between study time and term test results in MAT137.\n"
   ]
  },
  {
   "cell_type": "markdown",
   "id": "aa02cab1",
   "metadata": {},
   "source": [
    "Analysis 2: Class Participation Related to Term Test Results in MAT223\n",
    "\n",
    "Research Question:\n",
    "Is there a relation between participation in class and students' term test grade?\n",
    "\n",
    "Variables and Exploration:\n",
    "\n",
    "Independent Variable: Missing class percentage\n",
    "\n",
    "Dependent Variable: term test results\n",
    "\n",
    "Justification: Attendance to the class is usually seen as very important to the grades. analyzing will provide evidence for its importance.\n",
    "Proposed Visualization:\n",
    "\n",
    "Using box plots for this situation is good, it will give ass the distribution of grades high and low attendance. It can show the central tendency and spread of each group.\n",
    "\n",
    "Analysis Method:\n",
    "\n",
    "Chosen Method: Use Independent t-test to compare the mean of different missing class intervals. Compare low missing class to high missing class.\n",
    "\n",
    "Assumptions: Assumes normal distribution of grades within each group and homogeneity of variances between groups.\n",
    "\n",
    "Hypothesis:\n",
    "\n",
    "Null Hypothesis (H₀): There is no significant relationship between missing class percentage and term test results in MAT223. \n",
    "\n",
    "Alternative Hypothesis (H₁): There is no significant relationship between missing class percentage and term test results in MAT223. \n",
    "\n",
    "Analysis 3: Different MBTI quantity in STA130 class\n",
    "\n",
    "Research Question:\n",
    "\n",
    "What is the distribution of MBTI personality types in STA130\n",
    "\n",
    "Variables and Exploration:\n",
    "\n",
    "Variable: MBTI type(categorical variable with 16 possible types)\n",
    "\n",
    "Justification: Understanding the distribution can reveal which personality types are more prevalent in this academic setting, possibly related to interests or strengths in statistics.\n",
    "\n",
    "Proposed Visualization:\n",
    "Bar chart is the best way to see the data that is categorical variable. By showing the frequency of each MBTI type, it can display the distribution and highlight any types.\n",
    "\n",
    "Analysis Method:\n",
    "Chosen Method: Using Descriptive statistics to calculate the frequency of each MBTI type.\n",
    "\n",
    "Assumptions: Assumes that I and J people would more likely to choose STA130\n",
    "\n",
    "Hypothesis:\n",
    "\n",
    "Null Hypothesis (H₀): There is no significant relationship between MATI type and decide to choose STA130. \n",
    "\n",
    "Alternative Hypothesis (H₁): There is a significant relationship between MATI type and decide to choose STA130. \n"
   ]
  },
  {
   "cell_type": "code",
   "execution_count": null,
   "id": "e60d0704",
   "metadata": {},
   "outputs": [],
   "source": []
  }
 ],
 "metadata": {
  "kernelspec": {
   "display_name": "Python 3 (ipykernel)",
   "language": "python",
   "name": "python3"
  },
  "language_info": {
   "codemirror_mode": {
    "name": "ipython",
    "version": 3
   },
   "file_extension": ".py",
   "mimetype": "text/x-python",
   "name": "python",
   "nbconvert_exporter": "python",
   "pygments_lexer": "ipython3",
   "version": "3.11.6"
  }
 },
 "nbformat": 4,
 "nbformat_minor": 5
}
