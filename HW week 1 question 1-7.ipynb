{
 "cells": [
  {
   "cell_type": "code",
   "execution_count": 2,
   "id": "56c1e72c",
   "metadata": {},
   "outputs": [
    {
     "name": "stdout",
     "output_type": "stream",
     "text": [
      "The DataFrame has 391 rows and 11 columns.\n"
     ]
    }
   ],
   "source": [
    "import pandas as pd\n",
    "\n",
    "# Load the dataset from the provided link\n",
    "url = \"https://raw.githubusercontent.com/rfordatascience/tidytuesday/master/data/2020/2020-05-05/villagers.csv\"\n",
    "df = pd.read_csv(url)\n",
    "\n",
    "# Determine the number of rows and columns\n",
    "rows, columns = df.shape\n",
    "\n",
    "# Print the number of rows and columns\n",
    "rows, columns\n",
    "print(f\"The DataFrame has {rows} rows and {columns} columns.\")"
   ]
  },
  {
   "cell_type": "code",
   "execution_count": 3,
   "id": "41c3af5c",
   "metadata": {},
   "outputs": [
    {
     "ename": "SyntaxError",
     "evalue": "invalid character '’' (U+2019) (2542933036.py, line 6)",
     "output_type": "error",
     "traceback": [
      "\u001b[0;36m  Cell \u001b[0;32mIn[3], line 6\u001b[0;36m\u001b[0m\n\u001b[0;31m    Each column in the villagers.csv dataset is a variable. Examples of variables could be the villager’s name, species, personality, birthday, or gender.\u001b[0m\n\u001b[0m                                                                                                       ^\u001b[0m\n\u001b[0;31mSyntaxError\u001b[0m\u001b[0;31m:\u001b[0m invalid character '’' (U+2019)\n"
     ]
    }
   ],
   "source": [
    "Observations\n",
    "Definition: In the context of a dataset, an observation refers to a single instance or case that contains data for all the variables in the dataset.\n",
    "Each row in the villagers.csv dataset represents an observation. Since this dataset is related to Animal Crossing villagers, an observation would represent one villager, with all the relevant data about that particular villager (such as name, species, personality, etc.).\n",
    "Variables\n",
    "Definition: A variable refers to a specific characteristic or attribute that is measured or recorded for each observation. \n",
    "Each column in the villagers.csv dataset is a variable. Examples of variables could be the villager’s name, species, personality, birthday, or gender."
   ]
  },
  {
   "cell_type": "code",
   "execution_count": 5,
   "id": "eb0c3cc5",
   "metadata": {},
   "outputs": [
    {
     "name": "stdout",
     "output_type": "stream",
     "text": [
      "Summary Statistics for Numeric Columns:\n",
      "            row_n\n",
      "count  391.000000\n",
      "mean   239.902813\n",
      "std    140.702672\n",
      "min      2.000000\n",
      "25%    117.500000\n",
      "50%    240.000000\n",
      "75%    363.500000\n",
      "max    483.000000\n",
      "\n",
      "Summary of All Columns:\n",
      "<class 'pandas.core.frame.DataFrame'>\n",
      "RangeIndex: 391 entries, 0 to 390\n",
      "Data columns (total 11 columns):\n",
      " #   Column       Non-Null Count  Dtype \n",
      "---  ------       --------------  ----- \n",
      " 0   row_n        391 non-null    int64 \n",
      " 1   id           390 non-null    object\n",
      " 2   name         391 non-null    object\n",
      " 3   gender       391 non-null    object\n",
      " 4   species      391 non-null    object\n",
      " 5   birthday     391 non-null    object\n",
      " 6   personality  391 non-null    object\n",
      " 7   song         380 non-null    object\n",
      " 8   phrase       391 non-null    object\n",
      " 9   full_id      391 non-null    object\n",
      " 10  url          391 non-null    object\n",
      "dtypes: int64(1), object(10)\n",
      "memory usage: 33.7+ KB\n",
      "None\n"
     ]
    }
   ],
   "source": [
    "import pandas as pd\n",
    "\n",
    "# Load the dataset from the provided link\n",
    "url = \"https://raw.githubusercontent.com/rfordatascience/tidytuesday/master/data/2020/2020-05-05/villagers.csv\"\n",
    "df = pd.read_csv(url)\n",
    "\n",
    "# Get summary statistics for numeric columns\n",
    "print(\"Summary Statistics for Numeric Columns:\")\n",
    "print(df.describe())\n",
    "\n",
    "# Get a summary of all columns (data types, non-null values)\n",
    "print(\"\\nSummary of All Columns:\")\n",
    "print(df.info())"
   ]
  },
  {
   "cell_type": "code",
   "execution_count": 7,
   "id": "e88e8b83",
   "metadata": {},
   "outputs": [
    {
     "name": "stdout",
     "output_type": "stream",
     "text": [
      "Summary Statistics for the 'species' column:\n",
      "count     391\n",
      "unique     35\n",
      "top       cat\n",
      "freq       23\n",
      "Name: species, dtype: object\n",
      "\n",
      "Unique Value Counts for 'species':\n",
      "species\n",
      "cat          23\n",
      "rabbit       20\n",
      "frog         18\n",
      "squirrel     18\n",
      "duck         17\n",
      "dog          16\n",
      "cub          16\n",
      "pig          15\n",
      "bear         15\n",
      "mouse        15\n",
      "horse        15\n",
      "bird         13\n",
      "penguin      13\n",
      "sheep        13\n",
      "elephant     11\n",
      "wolf         11\n",
      "ostrich      10\n",
      "deer         10\n",
      "eagle         9\n",
      "gorilla       9\n",
      "chicken       9\n",
      "koala         9\n",
      "goat          8\n",
      "hamster       8\n",
      "kangaroo      8\n",
      "monkey        8\n",
      "anteater      7\n",
      "hippo         7\n",
      "tiger         7\n",
      "alligator     7\n",
      "lion          7\n",
      "bull          6\n",
      "rhino         6\n",
      "cow           4\n",
      "octopus       3\n",
      "Name: count, dtype: int64\n"
     ]
    }
   ],
   "source": [
    "import pandas as pd\n",
    "\n",
    "# Load the dataset from the provided link\n",
    "url = \"https://raw.githubusercontent.com/rfordatascience/tidytuesday/master/data/2020/2020-05-05/villagers.csv\"\n",
    "df = pd.read_csv(url)\n",
    "\n",
    "# Replace 'column' with the actual column name you'd like to summarize\n",
    "# For example, summarize the 'species' column:\n",
    "\n",
    "# Get summary statistics for the column\n",
    "print(\"Summary Statistics for the 'species' column:\")\n",
    "print(df['species'].describe())\n",
    "\n",
    "# Get the count of unique values in the column\n",
    "print(\"\\nUnique Value Counts for 'species':\")\n",
    "print(df['species'].value_counts())"
   ]
  },
  {
   "cell_type": "code",
   "execution_count": 8,
   "id": "5e08f6ac",
   "metadata": {},
   "outputs": [
    {
     "name": "stdout",
     "output_type": "stream",
     "text": [
      "Missing Values in Each Column:\n",
      "row_n           0\n",
      "id              1\n",
      "name            0\n",
      "gender          0\n",
      "species         0\n",
      "birthday        0\n",
      "personality     0\n",
      "song           11\n",
      "phrase          0\n",
      "full_id         0\n",
      "url             0\n",
      "dtype: int64\n"
     ]
    }
   ],
   "source": [
    "import pandas as pd\n",
    "\n",
    "# Load the dataset from the provided link\n",
    "url = \"https://raw.githubusercontent.com/rfordatascience/tidytuesday/master/data/2020/2020-05-05/villagers.csv\"\n",
    "df = pd.read_csv(url)\n",
    "\n",
    "# Check for missing values in each column\n",
    "print(\"Missing Values in Each Column:\")\n",
    "print(df.isnull().sum())"
   ]
  },
  {
   "cell_type": "code",
   "execution_count": 9,
   "id": "0529f276",
   "metadata": {},
   "outputs": [
    {
     "name": "stdout",
     "output_type": "stream",
     "text": [
      "row_n          391\n",
      "id             390\n",
      "name           391\n",
      "gender         391\n",
      "species        391\n",
      "birthday       391\n",
      "personality    391\n",
      "song           380\n",
      "phrase         391\n",
      "full_id        391\n",
      "url            391\n",
      "dtype: int64\n"
     ]
    }
   ],
   "source": [
    "print(df.count())"
   ]
  },
  {
   "cell_type": "code",
   "execution_count": 10,
   "id": "69b42277",
   "metadata": {},
   "outputs": [
    {
     "ename": "SyntaxError",
     "evalue": "unterminated string literal (detected at line 1) (3031162545.py, line 1)",
     "output_type": "error",
     "traceback": [
      "\u001b[0;36m  Cell \u001b[0;32mIn[10], line 1\u001b[0;36m\u001b[0m\n\u001b[0;31m    Here are the difference between attributes and methods: First, attribute describe the property of an object. Method describe the associated with an object. Second, attributes Need () but methods don't need (). Third, attributes only find the information that already exist, method will run a function.\u001b[0m\n\u001b[0m                                                                                                                                                                                                          ^\u001b[0m\n\u001b[0;31mSyntaxError\u001b[0m\u001b[0;31m:\u001b[0m unterminated string literal (detected at line 1)\n"
     ]
    }
   ],
   "source": [
    "Here are the difference between attributes and methods: First, attribute describe the property of an object. Method describe the associated with an object. Second, attributes Need () but methods don't need (). Third, attributes only find the information that already exist, method will run a function."
   ]
  },
  {
   "cell_type": "code",
   "execution_count": 11,
   "id": "892d634a",
   "metadata": {},
   "outputs": [
    {
     "ename": "SyntaxError",
     "evalue": "invalid syntax (1698735983.py, line 1)",
     "output_type": "error",
     "traceback": [
      "\u001b[0;36m  Cell \u001b[0;32mIn[11], line 1\u001b[0;36m\u001b[0m\n\u001b[0;31m    Count: Number of observations (non-missing values).\u001b[0m\n\u001b[0m                  ^\u001b[0m\n\u001b[0;31mSyntaxError\u001b[0m\u001b[0;31m:\u001b[0m invalid syntax\n"
     ]
    }
   ],
   "source": [
    "Count: Number of observations (non-missing values).\n",
    "Mean: The average value of the column.\n",
    "Standard Deviation: How spread out the values are from the mean.\n",
    "Min: The smallest value.\n",
    "25%: The value below which 25% of data lies (first quartile).\n",
    "50%: The median, dividing the data into two halves.\n",
    "75%: The value below which 75% of data lies (third quartile).\n",
    "Max: The largest value in the dataset."
   ]
  },
  {
   "cell_type": "code",
   "execution_count": 12,
   "id": "1f3ebcc3",
   "metadata": {},
   "outputs": [
    {
     "ename": "SyntaxError",
     "evalue": "unterminated string literal (detected at line 6) (4087469690.py, line 6)",
     "output_type": "error",
     "traceback": [
      "\u001b[0;36m  Cell \u001b[0;32mIn[12], line 6\u001b[0;36m\u001b[0m\n\u001b[0;31m    If there is a column that don't have useful information and you want to delete them, use df['col'] will delete this column whatever it have missing value or not\u001b[0m\n\u001b[0m                                                                                                    ^\u001b[0m\n\u001b[0;31mSyntaxError\u001b[0m\u001b[0;31m:\u001b[0m unterminated string literal (detected at line 6)\n"
     ]
    }
   ],
   "source": [
    "Provide an example of a \"use case\" in which using df.dropna() might be peferred over using del df['col']\n",
    "When you have a missing value that accross the many columns but you only want to delete the row that only have missing values\n",
    "\n",
    "\n",
    "Provide an example of \"the opposite use case\" in which using del df['col'] might be preferred over using df.dropna()\n",
    "If there is a column that don't have useful information and you want to delete them, use df['col'] will delete this column whatever it have missing value or not"
   ]
  },
  {
   "cell_type": "code",
   "execution_count": 13,
   "id": "611cda4a",
   "metadata": {},
   "outputs": [
    {
     "ename": "SyntaxError",
     "evalue": "invalid decimal literal (3637144728.py, line 1)",
     "output_type": "error",
     "traceback": [
      "\u001b[0;36m  Cell \u001b[0;32mIn[13], line 1\u001b[0;36m\u001b[0m\n\u001b[0;31m    Link: https://chatgpt.com/share/7e53d1ae-3dea-41fb-9141-549b83c47243\u001b[0m\n\u001b[0m                                       ^\u001b[0m\n\u001b[0;31mSyntaxError\u001b[0m\u001b[0;31m:\u001b[0m invalid decimal literal\n"
     ]
    }
   ],
   "source": [
    "Link: https://chatgpt.com/share/7e53d1ae-3dea-41fb-9141-549b83c47243"
   ]
  },
  {
   "cell_type": "code",
   "execution_count": 14,
   "id": "beadb8ee",
   "metadata": {},
   "outputs": [
    {
     "ename": "SyntaxError",
     "evalue": "invalid syntax (1989488887.py, line 1)",
     "output_type": "error",
     "traceback": [
      "\u001b[0;36m  Cell \u001b[0;32mIn[14], line 1\u001b[0;36m\u001b[0m\n\u001b[0;31m    No, I don't understand many requirement from the HW. i don't understand anything about the HW. I just follow and tried my best to finish the HW.\u001b[0m\n\u001b[0m          ^\u001b[0m\n\u001b[0;31mSyntaxError\u001b[0m\u001b[0;31m:\u001b[0m invalid syntax\n"
     ]
    }
   ],
   "source": [
    "No, I don't understand many requirement from the HW. i don't understand anything about the HW. I just follow and tried my best to finish the HW."
   ]
  },
  {
   "cell_type": "markdown",
   "id": "f712d466",
   "metadata": {},
   "source": []
  }
 ],
 "metadata": {
  "kernelspec": {
   "display_name": "Python 3 (ipykernel)",
   "language": "python",
   "name": "python3"
  },
  "language_info": {
   "codemirror_mode": {
    "name": "ipython",
    "version": 3
   },
   "file_extension": ".py",
   "mimetype": "text/x-python",
   "name": "python",
   "nbconvert_exporter": "python",
   "pygments_lexer": "ipython3",
   "version": "3.11.6"
  }
 },
 "nbformat": 4,
 "nbformat_minor": 5
}
